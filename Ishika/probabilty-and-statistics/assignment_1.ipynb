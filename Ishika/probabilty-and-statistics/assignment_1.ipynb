{
 "cells": [
  {
   "cell_type": "markdown",
   "id": "b2680569",
   "metadata": {},
   "source": [
    "## Probability and Statistics : Assignment - 1\n"
   ]
  },
  {
   "cell_type": "markdown",
   "id": "e47aaad1",
   "metadata": {},
   "source": [
    "It is given that $Y = |Z|$, where $Z \\sim \\mathcal{N}(0, 1)$, i.e. $\\mu = 0 ~\\text{and}~ \\sigma^2 = 1$. \n",
    "\n",
    "$$f_z(z)=\\frac{1}{\\sqrt{2\\pi}}e^{-\\frac{z^2}{2}}~ \\text{for}~ z \\in (-\\infty, \\infty) $$\n",
    "\n",
    "\\begin{align*}\n",
    "F_Y(y) &= P(Y \\le y) \\\\\n",
    "     &= P(|Z|\\le y)\\\\\n",
    "     &= P(-y \\le |Z| \\le y)\\\\\n",
    "     &= F_Z(y)-F_Z(-y)\n",
    "\\end{align*}\n",
    "\n",
    "Hence, \n",
    "\\begin{align*}\n",
    "\\frac {dF_Y(y)}{dy} &= \\frac {d(F_Z(y)- F_Z(-y))}{dy} \\\\\n",
    "                    &= f_z(y) - f_z(-y)\\\\\n",
    "                    &=  2*\\frac{1}{\\sqrt{2\\pi}}e^{-\\frac{y^2}{2}}\\\\\n",
    "                    &= \\sqrt{\\frac{2}{\\pi}}e^{-\\frac{y^2}{2}}, \\text{for}~ y \\ge 0; ~ 0 ~ \\text{otherwise} \n",
    "\\end{align*} \n",
    "\n",
    "Now, \n",
    "$$\n",
    "\\begin{align*}\n",
    "\\mathbb{E}[Y]&= \\int_{-\\infty}^{+\\infty}yf_Y(y)dy\\\\\n",
    "             &=  \\int_{0}^{+\\infty}y\\sqrt{\\frac{2}{\\pi}}e^{-\\frac{y^2}{2}}dy\n",
    "    \n",
    "\\end{align*}\n",
    "$$\n",
    "\n",
    "Let $\\frac{y^2}{2}=t \\Rightarrow ydy = dt$\n",
    "\n",
    "\\begin{align*}\n",
    "    \\mathbb{E}[Y] &=~ \\sqrt{\\frac{2}{\\pi}} \\int_{0}^{+\\infty}e^{-t}dt\\\\\n",
    "                 &= \\sqrt{\\frac{2}{\\pi}}(-e^{-t})|_0^\\infty\\\\\n",
    "                 &= \\sqrt{\\frac{2}{\\pi}}\n",
    "\\end{align*}\n",
    "\n",
    "We know, $\\mathrm{Var}(Y) =\\mathbb{E}[Y^2]-(\\mathbb{E}[Y])^2 $\n",
    "\n",
    "MGF of Y is given as:\n",
    "\n",
    "\n",
    "\n"
   ]
  }
 ],
 "metadata": {
  "language_info": {
   "name": "python"
  }
 },
 "nbformat": 4,
 "nbformat_minor": 5
}
